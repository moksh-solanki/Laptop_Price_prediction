{
  "nbformat": 4,
  "nbformat_minor": 0,
  "metadata": {
    "colab": {
      "name": "Laptop_prices.ipynb",
      "provenance": [],
      "collapsed_sections": [],
      "authorship_tag": "ABX9TyMxsLBasI7+zbWijw69GyOn",
      "include_colab_link": true
    },
    "kernelspec": {
      "name": "python3",
      "display_name": "Python 3"
    }
  },
  "cells": [
    {
      "cell_type": "markdown",
      "metadata": {
        "id": "view-in-github",
        "colab_type": "text"
      },
      "source": [
        "<a href=\"https://colab.research.google.com/github/moksh-solanki/Laptop_Price_prediction/blob/master/Laptop_prices.ipynb\" target=\"_parent\"><img src=\"https://colab.research.google.com/assets/colab-badge.svg\" alt=\"Open In Colab\"/></a>"
      ]
    },
    {
      "cell_type": "code",
      "metadata": {
        "id": "yRnHLFOFnLNP",
        "colab_type": "code",
        "colab": {}
      },
      "source": [
        "import pandas as pd\n",
        "import matplotlib.pyplot as plt\n",
        "from sklearn.model_selection import train_test_split"
      ],
      "execution_count": 2,
      "outputs": []
    },
    {
      "cell_type": "code",
      "metadata": {
        "id": "RoCU5XXFqWEB",
        "colab_type": "code",
        "colab": {}
      },
      "source": [
        "path_to_csv = \"/content/laptops.csv\"\n",
        "data = pd.read_csv(path_to_csv,encoding=\"ISO-8859–1\",index_col=False)"
      ],
      "execution_count": 4,
      "outputs": []
    },
    {
      "cell_type": "code",
      "metadata": {
        "id": "Glb0GiBYzjTg",
        "colab_type": "code",
        "colab": {}
      },
      "source": [
        "# remove \"Unnamed: 0\" column\n",
        "del data['Unnamed: 0']"
      ],
      "execution_count": 5,
      "outputs": []
    },
    {
      "cell_type": "code",
      "metadata": {
        "id": "HbPGOdn0thra",
        "colab_type": "code",
        "colab": {
          "base_uri": "https://localhost:8080/",
          "height": 544
        },
        "outputId": "1beb09c9-0a68-49d5-9a19-137541c68fed"
      },
      "source": [
        "print(\"Before -- \\n\\n\",data.dtypes)\n",
        "\n",
        "# extract \"float value\" from \"Weight\" column (for example. \"1.2kg\" to 1.2)\n",
        "data['Weight'] = data['Weight'].str.extract('(\\d+.\\d+|\\d+)').astype(float)\n",
        "data['Weight']\n",
        "\n",
        "# extract \"int value\" from \"Ram\" column (for example. \"16gb\" to 16)\n",
        "data['Ram'] = data['Ram'].str.extract('(\\d+)').astype(int)\n",
        "data['Ram']\n",
        "\n",
        "print()\n",
        "print(\"After --\\n\\n \",data.dtypes)"
      ],
      "execution_count": 6,
      "outputs": [
        {
          "output_type": "stream",
          "text": [
            "Before -- \n",
            "\n",
            " Company              object\n",
            "Product              object\n",
            "TypeName             object\n",
            "Inches              float64\n",
            "ScreenResolution     object\n",
            "Cpu                  object\n",
            "Ram                  object\n",
            "Memory               object\n",
            "Gpu                  object\n",
            "OpSys                object\n",
            "Weight               object\n",
            "Price_euros         float64\n",
            "dtype: object\n",
            "\n",
            "After --\n",
            "\n",
            "  Company              object\n",
            "Product              object\n",
            "TypeName             object\n",
            "Inches              float64\n",
            "ScreenResolution     object\n",
            "Cpu                  object\n",
            "Ram                   int64\n",
            "Memory               object\n",
            "Gpu                  object\n",
            "OpSys                object\n",
            "Weight              float64\n",
            "Price_euros         float64\n",
            "dtype: object\n"
          ],
          "name": "stdout"
        }
      ]
    },
    {
      "cell_type": "code",
      "metadata": {
        "id": "4yhUP7LHKS69",
        "colab_type": "code",
        "colab": {}
      },
      "source": [
        "# conversion of 'Price_euros' to 'Price_rupees'\n",
        "data['Price_rupees'] = 86.93 * data['Price_euros']\n",
        "\n",
        "# drop 'Price_euros' column\n",
        "data.drop(columns=['Price_euros'],inplace=True)"
      ],
      "execution_count": 7,
      "outputs": []
    },
    {
      "cell_type": "code",
      "metadata": {
        "id": "J3OzlcSMiKru",
        "colab_type": "code",
        "colab": {}
      },
      "source": [
        "# Using List comprehension for extracting categorical column names \n",
        "col = [feature for feature in data.columns if data[feature].dtype == 'O']"
      ],
      "execution_count": 8,
      "outputs": []
    },
    {
      "cell_type": "code",
      "metadata": {
        "id": "tAHZsZ7r4MDi",
        "colab_type": "code",
        "colab": {}
      },
      "source": [
        "for feature in col:\n",
        "    labels_ordered= data.groupby([feature])['Price_rupees'].mean().sort_values().index\n",
        "    labels_ordered={k:i for i,k in enumerate(labels_ordered,0)}\n",
        "    data[feature]=data[feature].map(labels_ordered)\n",
        "    # print(labels_ordered)"
      ],
      "execution_count": 17,
      "outputs": []
    },
    {
      "cell_type": "code",
      "metadata": {
        "id": "Fq52P2keHL8g",
        "colab_type": "code",
        "colab": {
          "base_uri": "https://localhost:8080/",
          "height": 419
        },
        "outputId": "3238fa89-2f44-42fa-800a-74e925e2525f"
      },
      "source": [
        "data"
      ],
      "execution_count": null,
      "outputs": [
        {
          "output_type": "execute_result",
          "data": {
            "text/html": [
              "<div>\n",
              "<style scoped>\n",
              "    .dataframe tbody tr th:only-of-type {\n",
              "        vertical-align: middle;\n",
              "    }\n",
              "\n",
              "    .dataframe tbody tr th {\n",
              "        vertical-align: top;\n",
              "    }\n",
              "\n",
              "    .dataframe thead th {\n",
              "        text-align: right;\n",
              "    }\n",
              "</style>\n",
              "<table border=\"1\" class=\"dataframe\">\n",
              "  <thead>\n",
              "    <tr style=\"text-align: right;\">\n",
              "      <th></th>\n",
              "      <th>Company</th>\n",
              "      <th>Product</th>\n",
              "      <th>TypeName</th>\n",
              "      <th>Inches</th>\n",
              "      <th>ScreenResolution</th>\n",
              "      <th>Cpu</th>\n",
              "      <th>Ram</th>\n",
              "      <th>Memory</th>\n",
              "      <th>Gpu</th>\n",
              "      <th>OpSys</th>\n",
              "      <th>Weight</th>\n",
              "      <th>Price_rupees</th>\n",
              "    </tr>\n",
              "  </thead>\n",
              "  <tbody>\n",
              "    <tr>\n",
              "      <th>0</th>\n",
              "      <td>13</td>\n",
              "      <td>559</td>\n",
              "      <td>3</td>\n",
              "      <td>13.3</td>\n",
              "      <td>26</td>\n",
              "      <td>85</td>\n",
              "      <td>8</td>\n",
              "      <td>13</td>\n",
              "      <td>80</td>\n",
              "      <td>8</td>\n",
              "      <td>1.37</td>\n",
              "      <td>116459.2517</td>\n",
              "    </tr>\n",
              "    <tr>\n",
              "      <th>1</th>\n",
              "      <td>13</td>\n",
              "      <td>333</td>\n",
              "      <td>3</td>\n",
              "      <td>13.3</td>\n",
              "      <td>13</td>\n",
              "      <td>64</td>\n",
              "      <td>8</td>\n",
              "      <td>14</td>\n",
              "      <td>45</td>\n",
              "      <td>8</td>\n",
              "      <td>1.34</td>\n",
              "      <td>78144.8542</td>\n",
              "    </tr>\n",
              "    <tr>\n",
              "      <th>2</th>\n",
              "      <td>5</td>\n",
              "      <td>107</td>\n",
              "      <td>1</td>\n",
              "      <td>15.6</td>\n",
              "      <td>15</td>\n",
              "      <td>58</td>\n",
              "      <td>8</td>\n",
              "      <td>20</td>\n",
              "      <td>54</td>\n",
              "      <td>2</td>\n",
              "      <td>1.86</td>\n",
              "      <td>49984.7500</td>\n",
              "    </tr>\n",
              "    <tr>\n",
              "      <th>3</th>\n",
              "      <td>13</td>\n",
              "      <td>559</td>\n",
              "      <td>3</td>\n",
              "      <td>15.4</td>\n",
              "      <td>36</td>\n",
              "      <td>111</td>\n",
              "      <td>16</td>\n",
              "      <td>30</td>\n",
              "      <td>95</td>\n",
              "      <td>8</td>\n",
              "      <td>1.83</td>\n",
              "      <td>220580.5285</td>\n",
              "    </tr>\n",
              "    <tr>\n",
              "      <th>4</th>\n",
              "      <td>13</td>\n",
              "      <td>559</td>\n",
              "      <td>3</td>\n",
              "      <td>13.3</td>\n",
              "      <td>26</td>\n",
              "      <td>99</td>\n",
              "      <td>8</td>\n",
              "      <td>20</td>\n",
              "      <td>84</td>\n",
              "      <td>8</td>\n",
              "      <td>1.37</td>\n",
              "      <td>156786.9480</td>\n",
              "    </tr>\n",
              "    <tr>\n",
              "      <th>...</th>\n",
              "      <td>...</td>\n",
              "      <td>...</td>\n",
              "      <td>...</td>\n",
              "      <td>...</td>\n",
              "      <td>...</td>\n",
              "      <td>...</td>\n",
              "      <td>...</td>\n",
              "      <td>...</td>\n",
              "      <td>...</td>\n",
              "      <td>...</td>\n",
              "      <td>...</td>\n",
              "      <td>...</td>\n",
              "    </tr>\n",
              "    <tr>\n",
              "      <th>1298</th>\n",
              "      <td>6</td>\n",
              "      <td>193</td>\n",
              "      <td>2</td>\n",
              "      <td>14.0</td>\n",
              "      <td>16</td>\n",
              "      <td>77</td>\n",
              "      <td>4</td>\n",
              "      <td>13</td>\n",
              "      <td>47</td>\n",
              "      <td>4</td>\n",
              "      <td>1.80</td>\n",
              "      <td>55461.3400</td>\n",
              "    </tr>\n",
              "    <tr>\n",
              "      <th>1299</th>\n",
              "      <td>6</td>\n",
              "      <td>473</td>\n",
              "      <td>2</td>\n",
              "      <td>13.3</td>\n",
              "      <td>22</td>\n",
              "      <td>77</td>\n",
              "      <td>16</td>\n",
              "      <td>30</td>\n",
              "      <td>47</td>\n",
              "      <td>4</td>\n",
              "      <td>1.30</td>\n",
              "      <td>130308.0700</td>\n",
              "    </tr>\n",
              "    <tr>\n",
              "      <th>1300</th>\n",
              "      <td>6</td>\n",
              "      <td>12</td>\n",
              "      <td>1</td>\n",
              "      <td>14.0</td>\n",
              "      <td>6</td>\n",
              "      <td>16</td>\n",
              "      <td>2</td>\n",
              "      <td>6</td>\n",
              "      <td>6</td>\n",
              "      <td>4</td>\n",
              "      <td>1.50</td>\n",
              "      <td>19906.9700</td>\n",
              "    </tr>\n",
              "    <tr>\n",
              "      <th>1301</th>\n",
              "      <td>5</td>\n",
              "      <td>243</td>\n",
              "      <td>1</td>\n",
              "      <td>15.6</td>\n",
              "      <td>6</td>\n",
              "      <td>77</td>\n",
              "      <td>6</td>\n",
              "      <td>12</td>\n",
              "      <td>32</td>\n",
              "      <td>4</td>\n",
              "      <td>2.19</td>\n",
              "      <td>66414.5200</td>\n",
              "    </tr>\n",
              "    <tr>\n",
              "      <th>1302</th>\n",
              "      <td>7</td>\n",
              "      <td>69</td>\n",
              "      <td>1</td>\n",
              "      <td>15.6</td>\n",
              "      <td>6</td>\n",
              "      <td>16</td>\n",
              "      <td>4</td>\n",
              "      <td>9</td>\n",
              "      <td>6</td>\n",
              "      <td>4</td>\n",
              "      <td>2.20</td>\n",
              "      <td>32077.1700</td>\n",
              "    </tr>\n",
              "  </tbody>\n",
              "</table>\n",
              "<p>1303 rows × 12 columns</p>\n",
              "</div>"
            ],
            "text/plain": [
              "      Company  Product  TypeName  Inches  ...  Gpu  OpSys  Weight  Price_rupees\n",
              "0          13      559         3    13.3  ...   80      8    1.37   116459.2517\n",
              "1          13      333         3    13.3  ...   45      8    1.34    78144.8542\n",
              "2           5      107         1    15.6  ...   54      2    1.86    49984.7500\n",
              "3          13      559         3    15.4  ...   95      8    1.83   220580.5285\n",
              "4          13      559         3    13.3  ...   84      8    1.37   156786.9480\n",
              "...       ...      ...       ...     ...  ...  ...    ...     ...           ...\n",
              "1298        6      193         2    14.0  ...   47      4    1.80    55461.3400\n",
              "1299        6      473         2    13.3  ...   47      4    1.30   130308.0700\n",
              "1300        6       12         1    14.0  ...    6      4    1.50    19906.9700\n",
              "1301        5      243         1    15.6  ...   32      4    2.19    66414.5200\n",
              "1302        7       69         1    15.6  ...    6      4    2.20    32077.1700\n",
              "\n",
              "[1303 rows x 12 columns]"
            ]
          },
          "metadata": {
            "tags": []
          },
          "execution_count": 11
        }
      ]
    },
    {
      "cell_type": "code",
      "metadata": {
        "id": "Be9Mjg__mW8p",
        "colab_type": "code",
        "colab": {
          "base_uri": "https://localhost:8080/",
          "height": 493
        },
        "outputId": "82591cf7-75c5-4bbe-f439-7940f2139224"
      },
      "source": [
        "print(\"DataTypes-\",data.dtypes,\"\\n\")\n",
        "print(\"Is it null - \\n\",data.isnull().sum())"
      ],
      "execution_count": 18,
      "outputs": [
        {
          "output_type": "stream",
          "text": [
            "DataTypes- Company               int64\n",
            "Product               int64\n",
            "TypeName              int64\n",
            "Inches              float64\n",
            "ScreenResolution      int64\n",
            "Cpu                   int64\n",
            "Ram                   int64\n",
            "Memory                int64\n",
            "Gpu                   int64\n",
            "OpSys                 int64\n",
            "Weight              float64\n",
            "Price_rupees        float64\n",
            "dtype: object \n",
            "\n",
            "Is it null - \n",
            " Company             0\n",
            "Product             0\n",
            "TypeName            0\n",
            "Inches              0\n",
            "ScreenResolution    0\n",
            "Cpu                 0\n",
            "Ram                 0\n",
            "Memory              0\n",
            "Gpu                 0\n",
            "OpSys               0\n",
            "Weight              0\n",
            "Price_rupees        0\n",
            "dtype: int64\n"
          ],
          "name": "stdout"
        }
      ]
    },
    {
      "cell_type": "code",
      "metadata": {
        "id": "P7SIzhYm-l3_",
        "colab_type": "code",
        "colab": {}
      },
      "source": [
        "# target variable\n",
        "target_variable = 'Price_rupees'\n",
        "y = data[target_variable]\n",
        "\n",
        "# features\n",
        "X = data[data.columns.difference([target_variable])]"
      ],
      "execution_count": 19,
      "outputs": []
    },
    {
      "cell_type": "code",
      "metadata": {
        "id": "G6b8RMM62llo",
        "colab_type": "code",
        "colab": {}
      },
      "source": [
        "# split dataset\n",
        "X_train,X_test,y_train,y_test = train_test_split(X,y,test_size=0.30)"
      ],
      "execution_count": 20,
      "outputs": []
    },
    {
      "cell_type": "markdown",
      "metadata": {
        "id": "ZBRgV9KJSjjw",
        "colab_type": "text"
      },
      "source": [
        "# Linear Regression"
      ]
    },
    {
      "cell_type": "code",
      "metadata": {
        "id": "yISzwPoISnBk",
        "colab_type": "code",
        "colab": {}
      },
      "source": [
        "from sklearn.linear_model import LinearRegression"
      ],
      "execution_count": 21,
      "outputs": []
    },
    {
      "cell_type": "code",
      "metadata": {
        "id": "N5ME9TGlSxzS",
        "colab_type": "code",
        "colab": {}
      },
      "source": [
        "lr_model = LinearRegression().fit(X_train,y_train)"
      ],
      "execution_count": 22,
      "outputs": []
    },
    {
      "cell_type": "code",
      "metadata": {
        "id": "KQJ2ewLWMijw",
        "colab_type": "code",
        "colab": {
          "base_uri": "https://localhost:8080/",
          "height": 34
        },
        "outputId": "a9f73b42-622f-4eb8-e2df-6f11d1d76cc6"
      },
      "source": [
        "lr_model.score(X_train,y_train) # train-set score"
      ],
      "execution_count": 23,
      "outputs": [
        {
          "output_type": "execute_result",
          "data": {
            "text/plain": [
              "0.858455316564037"
            ]
          },
          "metadata": {
            "tags": []
          },
          "execution_count": 23
        }
      ]
    },
    {
      "cell_type": "code",
      "metadata": {
        "id": "T5TZwxl8Miu2",
        "colab_type": "code",
        "colab": {
          "base_uri": "https://localhost:8080/",
          "height": 34
        },
        "outputId": "ef2990f0-4e59-415a-c740-1abdb4d2d7c1"
      },
      "source": [
        "lr_model.score(X_test,y_test) # test-set score"
      ],
      "execution_count": 24,
      "outputs": [
        {
          "output_type": "execute_result",
          "data": {
            "text/plain": [
              "0.8549461414583912"
            ]
          },
          "metadata": {
            "tags": []
          },
          "execution_count": 24
        }
      ]
    },
    {
      "cell_type": "code",
      "metadata": {
        "id": "aPiOb7ahrO1v",
        "colab_type": "code",
        "colab": {}
      },
      "source": [
        "# prediction\n",
        "y_pred_lr = lr_model.predict(X_test) "
      ],
      "execution_count": null,
      "outputs": []
    },
    {
      "cell_type": "markdown",
      "metadata": {
        "id": "r6NtkaO6NOe3",
        "colab_type": "text"
      },
      "source": [
        "# Random Forest Regressor"
      ]
    },
    {
      "cell_type": "code",
      "metadata": {
        "id": "Y5CI0LUuNV8p",
        "colab_type": "code",
        "colab": {}
      },
      "source": [
        "from sklearn.ensemble import RandomForestRegressor"
      ],
      "execution_count": null,
      "outputs": []
    },
    {
      "cell_type": "code",
      "metadata": {
        "id": "Gh4y7QgbkqZa",
        "colab_type": "code",
        "colab": {}
      },
      "source": [
        "rfr_model = RandomForestRegressor().fit(X_train,y_train)"
      ],
      "execution_count": null,
      "outputs": []
    },
    {
      "cell_type": "code",
      "metadata": {
        "id": "cKnUG65fn_0S",
        "colab_type": "code",
        "colab": {
          "base_uri": "https://localhost:8080/",
          "height": 34
        },
        "outputId": "0b0e9223-7220-4f45-c963-2c79b54b004c"
      },
      "source": [
        "rfr_model.score(X_train,y_train) # train-set score"
      ],
      "execution_count": null,
      "outputs": [
        {
          "output_type": "execute_result",
          "data": {
            "text/plain": [
              "0.9895960356524811"
            ]
          },
          "metadata": {
            "tags": []
          },
          "execution_count": 23
        }
      ]
    },
    {
      "cell_type": "code",
      "metadata": {
        "id": "xZgpZ4csoUe6",
        "colab_type": "code",
        "colab": {
          "base_uri": "https://localhost:8080/",
          "height": 34
        },
        "outputId": "abc59c98-ebac-4f45-b50b-7a9f6cdbc98c"
      },
      "source": [
        "rfr_model.score(X_test,y_test) # test-set score"
      ],
      "execution_count": null,
      "outputs": [
        {
          "output_type": "execute_result",
          "data": {
            "text/plain": [
              "0.9327493823655095"
            ]
          },
          "metadata": {
            "tags": []
          },
          "execution_count": 24
        }
      ]
    },
    {
      "cell_type": "code",
      "metadata": {
        "id": "kG3lsuN7qe8L",
        "colab_type": "code",
        "colab": {}
      },
      "source": [
        "y_pred_rfr = rfr_model.predict(X_test)"
      ],
      "execution_count": null,
      "outputs": []
    },
    {
      "cell_type": "markdown",
      "metadata": {
        "id": "r_MREmvAvDGs",
        "colab_type": "text"
      },
      "source": [
        "# Linear Support Vector Regression"
      ]
    },
    {
      "cell_type": "code",
      "metadata": {
        "id": "V5WFFvOPvITU",
        "colab_type": "code",
        "colab": {}
      },
      "source": [
        "from sklearn.svm import LinearSVR"
      ],
      "execution_count": null,
      "outputs": []
    },
    {
      "cell_type": "code",
      "metadata": {
        "id": "W_5Ae5ODvRqn",
        "colab_type": "code",
        "colab": {}
      },
      "source": [
        "svrLIr_model = LinearSVR().fit(X_train,y_train)"
      ],
      "execution_count": null,
      "outputs": []
    },
    {
      "cell_type": "code",
      "metadata": {
        "id": "ydGfKq_Gvh6G",
        "colab_type": "code",
        "colab": {
          "base_uri": "https://localhost:8080/",
          "height": 34
        },
        "outputId": "eb46b227-e584-4555-919f-0b327b61f61a"
      },
      "source": [
        "svrLIr_model.score(X_train,y_train) # train-set score"
      ],
      "execution_count": null,
      "outputs": [
        {
          "output_type": "execute_result",
          "data": {
            "text/plain": [
              "0.7904587611298481"
            ]
          },
          "metadata": {
            "tags": []
          },
          "execution_count": 41
        }
      ]
    },
    {
      "cell_type": "code",
      "metadata": {
        "id": "iGlXMj9rv6Rp",
        "colab_type": "code",
        "colab": {
          "base_uri": "https://localhost:8080/",
          "height": 34
        },
        "outputId": "eab05665-6ba8-477c-86a8-63e1c04c7e9f"
      },
      "source": [
        "svrLIr_model.score(X_test,y_test) # test-set score"
      ],
      "execution_count": null,
      "outputs": [
        {
          "output_type": "execute_result",
          "data": {
            "text/plain": [
              "0.7872618336494136"
            ]
          },
          "metadata": {
            "tags": []
          },
          "execution_count": 42
        }
      ]
    },
    {
      "cell_type": "code",
      "metadata": {
        "id": "zsAx2QV0wpdI",
        "colab_type": "code",
        "colab": {}
      },
      "source": [
        "y_pred_svrLIr = svrLIr_model.predict(X_test)"
      ],
      "execution_count": null,
      "outputs": []
    },
    {
      "cell_type": "markdown",
      "metadata": {
        "id": "bjkbFpnmw5GM",
        "colab_type": "text"
      },
      "source": [
        "# K Nearest neighbors Regressor"
      ]
    },
    {
      "cell_type": "code",
      "metadata": {
        "id": "ied9EGIww68E",
        "colab_type": "code",
        "colab": {}
      },
      "source": [
        "from sklearn.neighbors import KNeighborsRegressor"
      ],
      "execution_count": null,
      "outputs": []
    },
    {
      "cell_type": "code",
      "metadata": {
        "id": "0wAESt0pw_6q",
        "colab_type": "code",
        "colab": {}
      },
      "source": [
        "knr_model = KNeighborsRegressor().fit(X_train,y_train)"
      ],
      "execution_count": null,
      "outputs": []
    },
    {
      "cell_type": "code",
      "metadata": {
        "id": "Bj3NbtzLzv-P",
        "colab_type": "code",
        "colab": {
          "base_uri": "https://localhost:8080/",
          "height": 34
        },
        "outputId": "d74e77ed-3619-44a3-ba52-8525871a020a"
      },
      "source": [
        "knr_model.score(X_train,y_train) # train-set score"
      ],
      "execution_count": null,
      "outputs": [
        {
          "output_type": "execute_result",
          "data": {
            "text/plain": [
              "0.9419686989407328"
            ]
          },
          "metadata": {
            "tags": []
          },
          "execution_count": 59
        }
      ]
    },
    {
      "cell_type": "code",
      "metadata": {
        "id": "-tYqFNqq0DFk",
        "colab_type": "code",
        "colab": {
          "base_uri": "https://localhost:8080/",
          "height": 34
        },
        "outputId": "3691b76c-ac74-4653-ed24-f0a7957254b6"
      },
      "source": [
        "sgdr_model.score(X_test,y_test) # test-set score"
      ],
      "execution_count": null,
      "outputs": [
        {
          "output_type": "execute_result",
          "data": {
            "text/plain": [
              "0.9181664525730834"
            ]
          },
          "metadata": {
            "tags": []
          },
          "execution_count": 60
        }
      ]
    }
  ]
}